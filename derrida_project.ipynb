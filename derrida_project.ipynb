{
 "cells": [
  {
   "cell_type": "code",
   "execution_count": 30,
   "metadata": {
    "collapsed": false,
    "slideshow": {
     "slide_type": "skip"
    }
   },
   "outputs": [],
   "source": [
    "from IPython import display\n",
    "import networkx as nx\n",
    "import numpy as np\n",
    "import matplotlib.mlab as mlab\n",
    "import matplotlib.pyplot as plt\n",
    "import math\n",
    "import os\n",
    "\n",
    "from collections import Counter\n",
    "\n",
    "%matplotlib inline\n",
    "\n"
   ]
  },
  {
   "cell_type": "markdown",
   "metadata": {
    "nbpresent": {
     "id": "8cb6e497-92cc-4369-81ed-9aea8c576b59"
    },
    "slideshow": {
     "slide_type": "slide"
    }
   },
   "source": [
    "<h1 style=\"text-align:center; margin-bottom:1%;\">Libraries and networks of knowledge:</h1>\n",
    "<img style=\"margin-left:auto; margin-right:auto;\" src=\"img/ld4p_lightgray_shadow.png\" alt=\"Princeton University Library Linked Open Data logo\"/>\n",
    "\n",
    "<h2 style=\"text-align:center; border-bottom:dotted black 2px; padding-bottom:2%;\">exploring the social and intellectual network of <br/>Jacques Derrida (1930-2004)</h2>"
   ]
  },
  {
   "cell_type": "markdown",
   "metadata": {
    "collapsed": true,
    "nbpresent": {
     "id": "8e1b3cb0-416c-4238-860f-b23b5aa3f04c"
    },
    "slideshow": {
     "slide_type": "fragment"
    }
   },
   "source": [
    "<div>\n",
    "    <p style=\"text-align:center; font-size:32px; margin-top:2%;\">Tim Thompson</p>\n",
    "        <p style=\"text-align:center; font-size:32px; line-height:110%;\">Princeton University Library Metadata Services staff members</p>\n",
    "    <br/>\n",
    "    <p style=\"text-align:center; font-size:32px; color:gray;\">Network Science</p> \n",
    "    <p style=\"text-align:center; font-size:32px; margin-bottom:2%;\">Spring 2017</p>\n",
    "</div>"
   ]
  },
  {
   "cell_type": "markdown",
   "metadata": {
    "nbpresent": {
     "id": "c104ffde-c4e4-4048-956d-292f9e30a569"
    },
    "slideshow": {
     "slide_type": "slide"
    }
   },
   "source": [
    "<div style=\"width:80%; margin-left:auto; margin-right:auto;\">\n",
    "<img src=\"img/derrida.jpg\" alt=\"Portrait of Jacques Derrida by Amateur Riktus Photography, predecessor to Nieu Riktus Photography\" title=\"By Ben Oswest (own work) [CC BY-NC-ND 2.0 (https://creativecommons.org/licenses/by-nc-nd/2.0/)], via Flickr]\" style=\"max-width:100%; position:relative;\"/>\n",
    "</div>\n"
   ]
  },
  {
   "cell_type": "markdown",
   "metadata": {
    "nbpresent": {
     "id": "8b2d07a0-3047-44ff-8af2-6266922a5b6a"
    },
    "slideshow": {
     "slide_type": "slide"
    }
   },
   "source": [
    "<div style=\"width:100%;\">\n",
    "<img src=\"img/axelos2.png\" alt=\"Title page with dedication from Kostas Axelos to Jacques Derrida\" title=\"Copyright Princeton University Library\" style=\"max-width:100%;\"/>\n",
    "\n",
    "<p style=\"text-align:center; font-size:32px;\">Title page with dedication from Kostas Axelos.</p>\n",
    "</div>\n",
    "\n",
    "\n",
    "\n",
    "\n",
    "\n"
   ]
  },
  {
   "cell_type": "markdown",
   "metadata": {
    "nbpresent": {
     "id": "a306a4eb-3ccb-4873-a879-0cb9a6b73aef"
    },
    "slideshow": {
     "slide_type": "slide"
    }
   },
   "source": [
    "<div style=\"width:100%; float:left;\">\n",
    "<img src=\"img/barthes.png\" alt=\"Title page with dedication from Kostas Axelos to Jacques Derrida\" title=\"Copyright Princeton University Library\" style=\"max-width:100%;\"/>\n",
    "<p style=\"text-align:center; font-size:32px;\">Title page with dedication from Roland Barthes.</p>\n",
    "</div>"
   ]
  },
  {
   "cell_type": "markdown",
   "metadata": {
    "nbpresent": {
     "id": "72382d04-a3fa-4e4f-9fbb-475a9db98303"
    },
    "slideshow": {
     "slide_type": "slide"
    }
   },
   "source": [
    "![Preliminary egocentric graph of the Derrida network](img/ego2.2.png)"
   ]
  },
  {
   "cell_type": "markdown",
   "metadata": {
    "nbpresent": {
     "id": "e73bb55a-e44f-4407-804d-d62cbf872af7"
    },
    "slideshow": {
     "slide_type": "slide"
    }
   },
   "source": [
    "![Preliminary egocentric graph of the Derrida network: zoomed in](img/ego2.3.png)"
   ]
  },
  {
   "cell_type": "code",
   "execution_count": 4,
   "metadata": {
    "collapsed": false,
    "nbpresent": {
     "id": "dc379b87-211f-4338-a1e3-5ee0c88171db"
    },
    "slideshow": {
     "slide_type": "skip"
    }
   },
   "outputs": [
    {
     "name": "stdout",
     "output_type": "stream",
     "text": [
      "Name: \n",
      "Type: MultiDiGraph\n",
      "Number of nodes: 83\n",
      "Number of edges: 46\n",
      "Average in degree:   0.5542\n",
      "Average out degree:   0.5542\n"
     ]
    }
   ],
   "source": [
    "import networkx as nx\n",
    "import numpy as np\n",
    "import matplotlib.mlab as mlab\n",
    "import matplotlib.pyplot as plt\n",
    "import math\n",
    "from collections import Counter\n",
    "import powerlaw as plaw\n",
    "import nbpresent\n",
    "\n",
    "%matplotlib inline\n",
    "\n",
    "# Load your graph\n",
    "G2 = nx.read_pajek(\"graphs/ego2.1.net\")\n",
    "print(nx.info(G2))\n"
   ]
  },
  {
   "cell_type": "code",
   "execution_count": 5,
   "metadata": {
    "collapsed": false,
    "nbpresent": {
     "id": "85e28348-a946-40b6-ba43-271ac0fe0cd0"
    },
    "slideshow": {
     "slide_type": "slide"
    }
   },
   "outputs": [
    {
     "name": "stdout",
     "output_type": "stream",
     "text": [
      "Nodes: 83 \n",
      "Unconnected: 49 \n",
      "Percent unconnected: 0.5903614457831325\n"
     ]
    }
   ],
   "source": [
    "zero = []\n",
    "\n",
    "for n in G2.nodes_iter():\n",
    "    d = G2.degree(n)\n",
    "    if d == 0:\n",
    "        zero.append(n)\n",
    "\n",
    "print(\"Nodes:\", len(G2), \"\\nUnconnected:\", len(zero), \"\\nPercent unconnected:\", (len(zero)/len(G2)))\n",
    "    "
   ]
  },
  {
   "cell_type": "markdown",
   "metadata": {
    "nbpresent": {
     "id": "4883a45e-5734-4383-8e7e-11d383fff9f9"
    },
    "slideshow": {
     "slide_type": "slide"
    }
   },
   "source": [
    "<p style=\"position:absolute; top:200px; left:300px; width:50px; font-weight:500;\">Dedications in the Derrida Library</p>\n",
    "<p style=\"position:absolute; top:200px; right:410px; width:50px; font-weight:500;\">Public information (e.g., Wikipedia)</p>\n",
    "<img src=\"img/venn.png\" alt=\"Venn diagram\" title=\"From Wikimedia Commons [Public Domain]\" style=\"margin-left:auto; margin-right:auto;\"/>"
   ]
  },
  {
   "cell_type": "markdown",
   "metadata": {
    "slideshow": {
     "slide_type": "slide"
    }
   },
   "source": [
    "<h1 style=\"text-align: center;\">Hypothesis</h1>\n",
    "<p style=\"font-size: larger;\">Data from a sample of books with dedications in the Derrida library can provide an empirical basis for identifying many of the nodes in Derrida's social and intellectual network. With this personal data as a starting point, the basic structure of Derrida's network and its linkages can then be derived from public sources such as Wikipedia.</p>"
   ]
  },
  {
   "cell_type": "markdown",
   "metadata": {
    "slideshow": {
     "slide_type": "slide"
    }
   },
   "source": [
    "<h1 style=\"text-align: center;\">Methodology</h1>\n",
    "<h2>Stage 1</h2>\n",
    "<ul style=\"font-size: 22px; list-style:none;\">\n",
    "    <li><input type=\"checkbox\"/>Extract Derrida-related links from the English Wikipedia</li>\n",
    "    <li><input type=\"checkbox\"/>Construct a directed network from these links</li>\n",
    "    <li><input type=\"checkbox\"/>Extract Derrida-related links from the French Wikipedia</li>\n",
    "    <li><input type=\"checkbox\"/>Construct a directed network from these links</li>\n",
    "    <li><input type=\"checkbox\"/>Complete a comparative analysis of the features of each network</li>    \n",
    "</ul>\n",
    "<h2>Stage 2</h2>\n",
    "<ul style=\"font-size: 22px; list-style:none;\">\n",
    "    <li><input type=\"checkbox\"/>Identify a sample of books in the Derrida library that have personal dedications</li>\n",
    "    <li><input type=\"checkbox\"/>Identify the author of each dedication</li>\n",
    "    <li><input type=\"checkbox\"/>Reconcile the author's name against a linked data service such as the <a href=\"http://viaf.org\">Virtual International Authority File (VIAF)</a></li>\n",
    "    <li><input type=\"checkbox\"/>Use the author's VIAF URI to query the English Wikipedia and identify corresponding Wikipedia pages</li>\n",
    "    <li><input type=\"checkbox\"/>Extract links from these pages</li>\n",
    "    <li><input type=\"checkbox\"/>Construct a directed network from these links</li>\n",
    "    <li><input type=\"checkbox\"/>Repeat the link extraction process for the French Wikipedia</li>\n",
    "    <li><input type=\"checkbox\"/>Compare the results to the \"raw\" networks created during Stage 1</li>    \n",
    "</ul>"
   ]
  },
  {
   "cell_type": "markdown",
   "metadata": {
    "slideshow": {
     "slide_type": "slide"
    }
   },
   "source": [
    "<h1 style=\"text-align: center;\">Assumptions and Limitations</h1>\n",
    "<ul style=\"font-size: larger;\">\n",
    "<li>Exploratory, limited scope</li>\n",
    "<li>May reflect Wikipedia more than Derrida</li>\n",
    "<li>Sample may not be unbiased</li>\n",
    "</ul>"
   ]
  },
  {
   "cell_type": "markdown",
   "metadata": {
    "slideshow": {
     "slide_type": "slide"
    }
   },
   "source": [
    "<h1 style=\"text-align: center;\">References</h1>\n",
    "<ul style=\"font-size:large;\">\n",
    "    <li>Domínguez, S., & Hollstein, B. (Eds.). (2014). Mixed methods social networks research: design and applications. New York, NY: Cambridge University Press.</li>\n",
    "    <li>Kadushin, C. (2012). Understanding social networks: theories, concepts, and findings. New York, NY: Oxford University Press.</li>\n",
    "    <li><span style=\"font-style:italic;\">CoRR</span><span style=\"font-style:italic;\">abs/1701.00991</span>. Retrieved from <a href=\"http://arxiv.org/abs/1701.00991\">arXiv.org</a></li>\n",
    "\n",
    "</ul>"
   ]
  }
 ],
 "metadata": {
  "anaconda-cloud": {},
  "celltoolbar": "Slideshow",
  "kernelspec": {
   "display_name": "Python [default]",
   "language": "python",
   "name": "python3"
  },
  "language_info": {
   "codemirror_mode": {
    "name": "ipython",
    "version": 3
   },
   "file_extension": ".py",
   "mimetype": "text/x-python",
   "name": "python",
   "nbconvert_exporter": "python",
   "pygments_lexer": "ipython3",
   "version": "3.5.2"
  },
  "nbpresent": {
   "slides": {
    "56abe6ff-f371-41f7-9f1d-8e718b5353f3": {
     "id": "56abe6ff-f371-41f7-9f1d-8e718b5353f3",
     "prev": null,
     "regions": {
      "f2a0697e-e941-4888-abb3-c2b52d79a1cc": {
       "attrs": {
        "height": 1,
        "width": 1,
        "x": 0,
        "y": 0
       },
       "content": {
        "cell": "a152e176-4e1f-4c20-a46b-f8ac2e4001d8",
        "part": "outputs"
       },
       "id": "f2a0697e-e941-4888-abb3-c2b52d79a1cc"
      }
     }
    }
   },
   "themes": {
    "default": "919e80bf-5e5d-495d-a802-2120ec1caaed",
    "theme": {
     "919e80bf-5e5d-495d-a802-2120ec1caaed": {
      "id": "919e80bf-5e5d-495d-a802-2120ec1caaed",
      "palette": {
       "19cc588f-0593-49c9-9f4b-e4d7cc113b1c": {
        "id": "19cc588f-0593-49c9-9f4b-e4d7cc113b1c",
        "rgb": [
         252,
         252,
         252
        ]
       },
       "31af15d2-7e15-44c5-ab5e-e04b16a89eff": {
        "id": "31af15d2-7e15-44c5-ab5e-e04b16a89eff",
        "rgb": [
         68,
         68,
         68
        ]
       },
       "50f92c45-a630-455b-aec3-788680ec7410": {
        "id": "50f92c45-a630-455b-aec3-788680ec7410",
        "rgb": [
         155,
         177,
         192
        ]
       },
       "c5cc3653-2ee1-402a-aba2-7caae1da4f6c": {
        "id": "c5cc3653-2ee1-402a-aba2-7caae1da4f6c",
        "rgb": [
         43,
         126,
         184
        ]
       },
       "efa7f048-9acb-414c-8b04-a26811511a21": {
        "id": "efa7f048-9acb-414c-8b04-a26811511a21",
        "rgb": [
         25.118061674008803,
         73.60176211453744,
         107.4819383259912
        ]
       }
      },
      "rules": {
       "blockquote": {
        "color": "50f92c45-a630-455b-aec3-788680ec7410"
       },
       "code": {
        "font-family": "Anonymous Pro"
       },
       "h1": {
        "color": "c5cc3653-2ee1-402a-aba2-7caae1da4f6c",
        "font-family": "Lato",
        "font-size": 8
       },
       "h2": {
        "color": "c5cc3653-2ee1-402a-aba2-7caae1da4f6c",
        "font-family": "Lato",
        "font-size": 6
       },
       "h3": {
        "color": "50f92c45-a630-455b-aec3-788680ec7410",
        "font-family": "Lato",
        "font-size": 5.5
       },
       "h4": {
        "color": "c5cc3653-2ee1-402a-aba2-7caae1da4f6c",
        "font-family": "Lato",
        "font-size": 5
       },
       "h5": {
        "font-family": "Lato"
       },
       "h6": {
        "font-family": "Lato"
       },
       "h7": {
        "font-family": "Lato"
       },
       "pre": {
        "font-family": "Anonymous Pro",
        "font-size": 4
       }
      },
      "text-base": {
       "font-family": "Merriweather",
       "font-size": 4
      }
     }
    }
   }
  }
 },
 "nbformat": 4,
 "nbformat_minor": 1
}
